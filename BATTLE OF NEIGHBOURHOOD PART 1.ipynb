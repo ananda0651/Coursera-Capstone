{
 "cells": [
  {
   "cell_type": "markdown",
   "metadata": {},
   "source": [
    "# APPLIED DATA SCIENCE CAPSTONE "
   ]
  },
  {
   "cell_type": "markdown",
   "metadata": {},
   "source": [
    "# To Locate a Suitable Place to OPEN a NEW SHOPPING MALL in BANGALORE, KARNATAKA, INDIA"
   ]
  },
  {
   "cell_type": "markdown",
   "metadata": {},
   "source": [
    "### BY ANANDAKRISHNAN\n",
    "#### DATED APRIL 2020"
   ]
  },
  {
   "cell_type": "markdown",
   "metadata": {},
   "source": [
    "## INTRODUCTION\n",
    "\n",
    "For many shoppers, visiting shopping malls is a great way to relax and enjoy themselves during\n",
    "weekends and holidays. They can do grocery shopping, dine at restaurants, shop at the various\n",
    "fashion outlets, watch movies and perform many more activities. Shopping malls are like a one-stop\n",
    "destination for all types of shoppers. For retailers, the central location and the large crowd at the\n",
    "shopping malls provides a great distribution channel to market their products and services. Property\n",
    "developers are also taking advantage of this trend to build more shopping malls to cater to the\n",
    "demand. As a result, there are many shopping malls in the city of Kuala Lumpur and many more are\n",
    "being built. Opening shopping malls allows property developers to earn consistent rental income. Of\n",
    "course, as with any business decision, opening a new shopping mall requires serious consideration\n",
    "and is a lot more complicated than it seems. Particularly, the location of the shopping mall is one of\n",
    "the most important decisions that will determine whether the mall will be a success or a failure. "
   ]
  },
  {
   "cell_type": "markdown",
   "metadata": {},
   "source": [
    "## BUSINESS PROBLEM\n",
    "The objective of this capstone project is to analyse and select the best locations in the city of BANGALORE, KARANATAKA to open a new shopping mall. Using data science methodology and machine\n",
    "learning techniques like clustering, this project aims to provide solutions to answer the business\n",
    "question.\n",
    "\n",
    "### BUSINESS QUESTION\n",
    "In the city of BANGALORE, KARANATAKA if a property developer is looking to open a new shopping mall, where would you recommend that they open it?"
   ]
  },
  {
   "cell_type": "markdown",
   "metadata": {},
   "source": [
    "### TARGET AUDIENCE OF THIS PROJECT\n",
    "This project is particularly useful to property developers and investors looking to open or invest in new shopping malls in the IT HUB of INDIA, i.e, BANGALORE KARNATAKA. This project is timely as the city\n",
    "is currently suffering from oversupply of shopping malls."
   ]
  },
  {
   "cell_type": "markdown",
   "metadata": {},
   "source": [
    "#### DATA\n",
    "##### To solve the problem, we will need the following data:\n",
    "\n",
    "###### 1. List of neighbourhoods in Bangalore. This defines the scope of this project which is confined to the city of Bangalore.\n",
    "###### 2. Latitude and longitude coordinates of those neighbourhoods. This is required in order to plot the map and also to get the venue data.\n",
    "###### 3. Venue data, particularly data related to shopping malls. We will use this data to perform clustering on the neighbourhoods."
   ]
  },
  {
   "cell_type": "markdown",
   "metadata": {},
   "source": [
    "### Sources of data and methods to extract them\n",
    "\n",
    "This Wikipedia page (https://commons.wikimedia.org/wiki/Category:Suburbs_of_Bangalore) contains a\n",
    "list of neighbourhoods in Bangalore, with a total of 59 neighbourhoods. We will use web scraping\n",
    "techniques to extract the data from the Wikipedia page, with the help of Python requests and\n",
    "beautifulsoup packages. Then we will get the geographical coordinates of the neighbourhoods using\n",
    "Python Geocoder package which will give us the latitude and longitude coordinates of the\n",
    "neighbourhoods.\n",
    "\n",
    "After that, we will use **Foursquare API** to get the venue data for those neighbourhoods. \n",
    "- Foursquare has one of the largest database of 105+ million places and is used by over 125,000 developers.\n",
    "- Foursquare API will provide many categories of the venue data, we are particularly interested in the Shopping Mall category in order to help us to solve the business problem put forward. \n",
    "- This is a project that will make use of many data science skills, from web scraping (Wikipedia), working with **API (Foursquare), data cleaning, data wrangling, to machine learning (K-means clustering) and map visualization (Folium)**. \n",
    "- In the next section, we will present the Methodology section where we will discuss the steps taken in this project, the data analysis that we did and the machine learning technique that was used."
   ]
  },
  {
   "cell_type": "code",
   "execution_count": null,
   "metadata": {},
   "outputs": [],
   "source": []
  }
 ],
 "metadata": {
  "kernelspec": {
   "display_name": "Python",
   "language": "python",
   "name": "conda-env-python-py"
  },
  "language_info": {
   "codemirror_mode": {
    "name": "ipython",
    "version": 3
   },
   "file_extension": ".py",
   "mimetype": "text/x-python",
   "name": "python",
   "nbconvert_exporter": "python",
   "pygments_lexer": "ipython3",
   "version": "3.6.10"
  }
 },
 "nbformat": 4,
 "nbformat_minor": 4
}
